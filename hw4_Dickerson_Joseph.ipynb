{
 "cells": [
  {
   "cell_type": "markdown",
   "id": "881faec9",
   "metadata": {},
   "source": [
    "# HW4\n",
    "### Total points: 100 (5% of final grade).\n",
    "### Due: 11:59 pm, Nov 7th, 2024\n",
    "## Name: XX"
   ]
  },
  {
   "cell_type": "markdown",
   "id": "e22d5425",
   "metadata": {},
   "source": [
    "## Question 1. String Manipulation. (6 pts)\n",
    "Extract the last names from the person list below, and save the result in a list. "
   ]
  },
  {
   "cell_type": "code",
   "execution_count": 14,
   "id": "044255cd",
   "metadata": {
    "tags": []
   },
   "outputs": [
    {
     "name": "stdout",
     "output_type": "stream",
     "text": [
      "['Smith', 'Drake', 'Mason', 'Johnson', 'Williams', 'Walker', 'Frog', 'Franklin', 'John', 'Miller', 'Robertson', 'Robertson', 'White', 'Gogh', 'Malone', 'Clark']\n"
     ]
    }
   ],
   "source": [
    "personList = [ 'Julia Smith', 'Francis Drake', 'Michael Mason',  \n",
    "                'Jennifer Johnson', 'John Williams', 'Susanne Walker',  \n",
    "                'Kermit the Frog', 'Dr. Melissa Franklin', 'Papa John', \n",
    "                'Walter John Miller', 'Frank Michael Robertson', 'Richard Robertson', \n",
    "                'Erik D. White', 'Vincent van Gogh', 'Dr. Dr. Matthew Malone', \n",
    "                'Rebecca Clark' ] \n",
    "\n",
    "\n",
    "last_names = [name.split()[-1] for name in personList]\n",
    "\n",
    "print(last_names)\n"
   ]
  },
  {
   "cell_type": "markdown",
   "id": "f1e598c2",
   "metadata": {},
   "source": [
    "## Question 2. String Manipulation. (6 pts)\n",
    "Extract the first names from the person list below, and save the result in a list. \n"
   ]
  },
  {
   "cell_type": "code",
   "execution_count": 15,
   "id": "45a7f722",
   "metadata": {
    "tags": []
   },
   "outputs": [
    {
     "name": "stdout",
     "output_type": "stream",
     "text": [
      "['Julia', 'Francis', 'Michael', 'Jennifer', 'John', 'Susanne', 'Kermit', 'Melissa', 'Papa', 'Walter', 'Frank', 'Richard', 'Erik', 'Vincent', 'Matthew', 'Rebecca']\n"
     ]
    }
   ],
   "source": [
    "personList = [ 'Julia Smith', 'Francis Drake', 'Michael Mason',  \n",
    "                'Jennifer Johnson', 'John Williams', 'Susanne Walker',  \n",
    "                'Kermit the Frog', 'Dr. Melissa Franklin', 'Papa John', \n",
    "                'Walter John Miller', 'Frank Michael Robertson', 'Richard Robertson', \n",
    "                'Erik D. White', 'Vincent van Gogh', 'Dr. Dr. Matthew Malone', \n",
    "                'Rebecca Clark' ] \n",
    "\n",
    "exclusions = [\"Dr.\", \"Mr.\", \"Mrs.\", \"Ms.\"]\n",
    "\n",
    "first_names = []\n",
    "\n",
    "for name in personList:\n",
    "    p1 = name.split()\n",
    "    first_name = p1[0]\n",
    "    index = 0\n",
    "\n",
    "    while index < len(p1) and p1[index] in exclusions:\n",
    "        index += 1\n",
    "\n",
    "    if index < len(p1):\n",
    "        first_names.append(p1[index])\n",
    "    else:\n",
    "        first_names.append(\"\")\n",
    "\n",
    "print(first_names)\n"
   ]
  },
  {
   "cell_type": "markdown",
   "id": "a95ee659",
   "metadata": {},
   "source": [
    "## Question 3. File read. (6 pts)\n",
    "The targetted file is located here: https://caleb-huo.github.io/teaching/data/Python/Student_data.csv.\n",
    "Read in this file and skip the header line ('Name', 'Hobby', 'Year_in_colledge', 'Initial_GPA', 'Study_time').\n",
    "Prepare the data in the format of a list, with each element of the list being a tuple.\n",
    "The first element of the list should be ('Dan', 'Football', 'freshman', '3.1', '10'). Print out the result."
   ]
  },
  {
   "cell_type": "code",
   "execution_count": 7,
   "id": "03b0d58b",
   "metadata": {
    "tags": []
   },
   "outputs": [
    {
     "data": {
      "text/plain": [
       "[('Dan', 'Football', 'freshman', 3.1, 10),\n",
       " ('Beth', 'Music', 'sophomore', 3.2, 20),\n",
       " ('Carl', 'Basketball', 'senior', 3.6, 14),\n",
       " ('Frank', 'Cooking', 'sophomore', 3.4, 16),\n",
       " ('Emily', 'Running', 'junior', 3.3, 18),\n",
       " ('Amy', 'Swimming', 'senior', 3.0, 15),\n",
       " ('Lucas', 'Hiking', 'sophomore', 3.7, 13),\n",
       " ('Dave', 'Fishing', 'junior', 3.9, 11),\n",
       " ('Ashely', 'Skiing', 'senior', 3.1, 15),\n",
       " ('Chris', 'Singing', 'freshman', 3.6, 19)]"
      ]
     },
     "execution_count": 7,
     "metadata": {},
     "output_type": "execute_result"
    }
   ],
   "source": [
    "import pandas as pd\n",
    "\n",
    "data = pd.read_csv(\"https://caleb-huo.github.io/teaching/data/Python/Student_data.csv\", header = None, skiprows = 1)\n",
    "data.head\n",
    "\n",
    "list(data.itertuples(index=False, name = None))\n"
   ]
  },
  {
   "cell_type": "markdown",
   "id": "33e5b144",
   "metadata": {},
   "source": [
    "## Question 4. List comprehension (6 pts)\n",
    "Use the knowledge of list comprehension to create a dictionary based on the student list above.\n",
    "The dictionary key should be students' name, and the value should be GPA in float type. Only output the elements of the dictionary with GPA >= 3.5. "
   ]
  },
  {
   "cell_type": "code",
   "execution_count": 34,
   "id": "9d3d25e7",
   "metadata": {
    "tags": []
   },
   "outputs": [
    {
     "ename": "TypeError",
     "evalue": "cannot unpack non-iterable int object",
     "output_type": "error",
     "traceback": [
      "\u001b[1;31m---------------------------------------------------------------------------\u001b[0m",
      "\u001b[1;31mTypeError\u001b[0m                                 Traceback (most recent call last)",
      "Cell \u001b[1;32mIn[34], line 1\u001b[0m\n\u001b[1;32m----> 1\u001b[0m dictionary \u001b[38;5;241m=\u001b[39m {key: value \u001b[38;5;28;01mfor\u001b[39;00m key, value \u001b[38;5;129;01min\u001b[39;00m data}\n",
      "\u001b[1;31mTypeError\u001b[0m: cannot unpack non-iterable int object"
     ]
    }
   ],
   "source": [
    "dictionary = {key: value for key, value in data}\n",
    "\n"
   ]
  },
  {
   "cell_type": "markdown",
   "id": "04c2ab76",
   "metadata": {
    "tags": []
   },
   "source": [
    "## Question 5. Class basic. (6 pts)\n",
    "Based on this student data, create a class Student.\n",
    "The Student class should have the following 5 attributes:\n",
    "\n",
    "- Name\n",
    "- Hobby\n",
    "- Year_in_colledge\n",
    "- init_GPA\n",
    "- study_time\n",
    "\n",
    "And implement a \"introduction()\" method for this Student class.\n",
    "This method should print out the following sentence:\n",
    "\n",
    "- \"Hello, this is XX. I am a XX. My hobby is XX!\"\n",
    "\n",
    "Then please create an object with the information of the first student (i.e., Dan). \n",
    "**Then use this introduction method**, we should expect to see the following\n",
    "\n",
    "- Hello, this is Dan. I am a freshman. My hobby is Football!\n",
    "\n",
    "Note that you may need to implement more methods for this class for future questions."
   ]
  },
  {
   "cell_type": "code",
   "execution_count": 31,
   "id": "032f3af1",
   "metadata": {},
   "outputs": [],
   "source": [
    "## implement your class here. \n",
    "## Note that you may need to implement more methods for this class for future questions.\n",
    "\n",
    "class Student:\n",
    "    def __init__(self, name, hobby, year, gpa, time):\n",
    "        self.name = name\n",
    "        self.hobby = hobby\n",
    "        self.year = year\n",
    "        self.gpa = gpa\n",
    "        self.time = time\n",
    "        \n",
    "    def setName(self, name):\n",
    "        self.name = name\n",
    "\n",
    "    def setHobby(self, hobby):\n",
    "        self.hobby = hobby\n",
    "\n",
    "    def setYear_in_college(self, year):\n",
    "        self.year = year\n",
    "\n",
    "    def setinit_GPA(self, gpa):\n",
    "        self.gpa = gpa\n",
    "\n",
    "    def setstudy_time(self, time):\n",
    "        self.time = time\n",
    "\n",
    "    def introduction(self):\n",
    "        print(f\"Hello, this is {name}. I am a {year}. My hobby is {hobby}!\")\n"
   ]
  },
  {
   "cell_type": "code",
   "execution_count": 33,
   "id": "171459d6",
   "metadata": {},
   "outputs": [
    {
     "ename": "NameError",
     "evalue": "name 'year' is not defined",
     "output_type": "error",
     "traceback": [
      "\u001b[1;31m---------------------------------------------------------------------------\u001b[0m",
      "\u001b[1;31mNameError\u001b[0m                                 Traceback (most recent call last)",
      "Cell \u001b[1;32mIn[33], line 8\u001b[0m\n\u001b[0;32m      1\u001b[0m \u001b[38;5;66;03m## Please create an object with the information of the first student. \u001b[39;00m\n\u001b[0;32m      2\u001b[0m \u001b[38;5;66;03m## When using the introduction method.\u001b[39;00m\n\u001b[0;32m      3\u001b[0m \u001b[38;5;66;03m## You should expect to see:\u001b[39;00m\n\u001b[0;32m      4\u001b[0m \u001b[38;5;66;03m## Hello, this is Dan. I am a freshman. My hobby is Football!\u001b[39;00m\n\u001b[0;32m      6\u001b[0m dan \u001b[38;5;241m=\u001b[39m Student(name \u001b[38;5;241m=\u001b[39m \u001b[38;5;124m\"\u001b[39m\u001b[38;5;124mDan\u001b[39m\u001b[38;5;124m\"\u001b[39m, hobby \u001b[38;5;241m=\u001b[39m \u001b[38;5;124m\"\u001b[39m\u001b[38;5;124mFootball\u001b[39m\u001b[38;5;124m\"\u001b[39m, year \u001b[38;5;241m=\u001b[39m \u001b[38;5;124m\"\u001b[39m\u001b[38;5;124mfreshman\u001b[39m\u001b[38;5;124m\"\u001b[39m, gpa \u001b[38;5;241m=\u001b[39m \u001b[38;5;124m\"\u001b[39m\u001b[38;5;124m3.1\u001b[39m\u001b[38;5;124m\"\u001b[39m, time \u001b[38;5;241m=\u001b[39m \u001b[38;5;124m\"\u001b[39m\u001b[38;5;124m10\u001b[39m\u001b[38;5;124m\"\u001b[39m)\n\u001b[1;32m----> 8\u001b[0m \u001b[43mdan\u001b[49m\u001b[38;5;241;43m.\u001b[39;49m\u001b[43mintroduction\u001b[49m\u001b[43m(\u001b[49m\u001b[43m)\u001b[49m\n",
      "Cell \u001b[1;32mIn[31], line 28\u001b[0m, in \u001b[0;36mStudent.introduction\u001b[1;34m(self)\u001b[0m\n\u001b[0;32m     27\u001b[0m \u001b[38;5;28;01mdef\u001b[39;00m \u001b[38;5;21mintroduction\u001b[39m(\u001b[38;5;28mself\u001b[39m):\n\u001b[1;32m---> 28\u001b[0m     \u001b[38;5;28mprint\u001b[39m(\u001b[38;5;124mf\u001b[39m\u001b[38;5;124m\"\u001b[39m\u001b[38;5;124mHello, this is \u001b[39m\u001b[38;5;132;01m{\u001b[39;00mname\u001b[38;5;132;01m}\u001b[39;00m\u001b[38;5;124m. I am a \u001b[39m\u001b[38;5;132;01m{\u001b[39;00m\u001b[43myear\u001b[49m\u001b[38;5;132;01m}\u001b[39;00m\u001b[38;5;124m. My hobby is \u001b[39m\u001b[38;5;132;01m{\u001b[39;00mhobby\u001b[38;5;132;01m}\u001b[39;00m\u001b[38;5;124m!\u001b[39m\u001b[38;5;124m\"\u001b[39m)\n",
      "\u001b[1;31mNameError\u001b[0m: name 'year' is not defined"
     ]
    }
   ],
   "source": [
    "## Please create an object with the information of the first student. \n",
    "## When using the introduction method.\n",
    "## You should expect to see:\n",
    "## Hello, this is Dan. I am a freshman. My hobby is Football!\n",
    "\n",
    "dan = Student(name = \"Dan\", hobby = \"Football\", year = \"freshman\", gpa = \"3.1\", time = \"10\")\n",
    "\n",
    "dan.introduction()"
   ]
  },
  {
   "cell_type": "markdown",
   "id": "39290c66",
   "metadata": {},
   "source": [
    "## Question 6. Get GPA (6 pts)\n",
    "Implement a \"getGPA()\" method in the Student class in Question 5. \n",
    "You can directly append code to Student class in Question 5 instead of creating a new class.\n",
    "In the \"getGPA()\" method, \n",
    "round the result such that there is only 2 digits after the decimal.\n",
    "Then constructing a Student object with information of Lucas, and get the GPA for Lucas. \n"
   ]
  },
  {
   "cell_type": "code",
   "execution_count": 7,
   "id": "16664237",
   "metadata": {},
   "outputs": [],
   "source": [
    "## your code:\n",
    "\n"
   ]
  },
  {
   "cell_type": "markdown",
   "id": "f7a29f94",
   "metadata": {},
   "source": [
    "## Question 7. Update GPA method. (6 pts) \n",
    "Implement a \"updateGPA()\" method in the Student class in Question 5. \n",
    "You can directly append code to Student class in Question 5 instead of creating a new class.\n",
    "Studying and working hard will be helpful to improve GPA.\n",
    "In the \"updateGPA()\" method, the new GPA = old GPA + log10(study_time) - 1.\n",
    "Note that the new GPA should not be above 4.0.\n",
    "If it is above, just set it to be 4.0.\n",
    "Print out Emily's original GPA.\n",
    "Also print out Emily's GPA aftering studing.\n"
   ]
  },
  {
   "cell_type": "code",
   "execution_count": 8,
   "id": "814887ab",
   "metadata": {},
   "outputs": [],
   "source": [
    "## your code:\n",
    "\n"
   ]
  },
  {
   "cell_type": "markdown",
   "id": "ce8d2067",
   "metadata": {},
   "source": [
    "## Question 8. Implement a StudyGroup Class. (6 pts)\n",
    "This StudyGroup Class should have the following attribute:\n",
    "\n",
    "- students: a list of Student objects\n",
    "\n",
    "and the following methods:\n",
    "\n",
    "- add(): add a Student to the StudyGroup class\n",
    "- get_roster(): print out a list of all student names.\n",
    "\n",
    "Then create the StudyGroup object, add all 10 students to the StudyGroup object, and finally, print out all students' names as a list.\n",
    "Note that you may need to implement more methods for this class for future questions.\n"
   ]
  },
  {
   "cell_type": "code",
   "execution_count": 9,
   "id": "f950f937",
   "metadata": {},
   "outputs": [],
   "source": [
    "## implement your class here. \n",
    "## Note that you may need to implement more methods for this class for future questions.\n",
    "\n",
    "## your code:\n",
    "\n"
   ]
  },
  {
   "cell_type": "code",
   "execution_count": 10,
   "id": "d560029e",
   "metadata": {},
   "outputs": [],
   "source": [
    "## Please create an object for the Study Group class.\n",
    "## Then you may want to add all 10 students to this study group.\n",
    "## Finally, print all students' name using the get_roster() method.\n",
    "\n",
    "## your code:\n",
    "\n"
   ]
  },
  {
   "cell_type": "markdown",
   "id": "c12a9e8d",
   "metadata": {
    "tags": []
   },
   "source": [
    "## Question 9. Introduce all students (6 pts)\n",
    "Implement a introduction_all() method in the StudyGroup class in Question 8. \n",
    "You can directly append code to the StudyGroup class in Question 8 instead of creating a new class.\n",
    "The introduction_all() method should print out the introduction of each student line by line.\n",
    "The order of the introduction should be the alphabetic order.\n",
    "For example, the first introduction should come from student Amy.\n",
    "Show the result below.\n"
   ]
  },
  {
   "cell_type": "code",
   "execution_count": 11,
   "id": "0eb4e93e",
   "metadata": {},
   "outputs": [],
   "source": [
    "## your code:\n",
    "\n"
   ]
  },
  {
   "cell_type": "markdown",
   "id": "08fa66ce",
   "metadata": {},
   "source": [
    "## Question 10. Get average GPA. (6 pts)\n",
    "Implement a \"get_ave_GPA()\" method in the StudyGroup class in Question 8. \n",
    "This method will return the average GPA of all students in this class.\n",
    "**Round the result with 2 digits after the decimal.**\n",
    "You can directly append code to the StudyGroup class in Question 8 instead of creating a new class.\n",
    "Then print out the average GPA of all students in this study group.\n",
    "\n"
   ]
  },
  {
   "cell_type": "code",
   "execution_count": 12,
   "id": "f7360249",
   "metadata": {},
   "outputs": [],
   "source": [
    "## your code:\n",
    "\n"
   ]
  },
  {
   "cell_type": "markdown",
   "id": "01386a98",
   "metadata": {},
   "source": [
    "## Question 11. Group Study. (6 pts) \n",
    "Implement a \"group_study()\" method in the StudyGroup class in Question 8. \n",
    "This method will let each student in the class study according to their study time.\n",
    "You can directly append code to the StudyGroup class in Question 8 instead of creating a new class.\n",
    "Then print out the average GPA after group study.\n",
    "\n"
   ]
  },
  {
   "cell_type": "code",
   "execution_count": 13,
   "id": "7858be4a",
   "metadata": {},
   "outputs": [],
   "source": [
    "## your code:\n",
    "\n"
   ]
  },
  {
   "cell_type": "markdown",
   "id": "2ced0952",
   "metadata": {},
   "source": [
    "## Question 12. Get highest GPA. (6 pts) \n",
    "Implement a \"get_high_GPA()\" method in the StudyGroup class in Question 8. \n",
    "This method will return the GPA and the student's name in the format of dictionary (i.e.,g {name:GPA}).\n",
    "You can directly append code to the StudyGroup class in Question 8 instead of creating a new class.\n",
    "Then print out the resulting dictionary (also after group study).\n",
    "\n"
   ]
  },
  {
   "cell_type": "code",
   "execution_count": 14,
   "id": "fb7a123a",
   "metadata": {},
   "outputs": [],
   "source": [
    "## your code:\n",
    "\n"
   ]
  },
  {
   "cell_type": "markdown",
   "id": "9e7aaff5",
   "metadata": {},
   "source": [
    "## Question 13. Numpy operations. (6 pts)\n",
    "We have created the following two numpy arrays A and B.\n",
    "Perform element-wise calculation: |(A-B)/(A+B)|, where || indicates the absolute value.\n"
   ]
  },
  {
   "cell_type": "code",
   "execution_count": 15,
   "id": "d830d4f2",
   "metadata": {
    "tags": []
   },
   "outputs": [],
   "source": [
    "\n",
    "import numpy as np\n",
    "\n",
    "A = np.array([[3, 4, 9, 2],\n",
    "              [5, 3, 2, 5]])\n",
    "B = np.array([[4, 3, 2, 5],\n",
    "              [6, 3, 1, 6]])\n",
    "\n",
    "## your code:\n",
    "\n",
    "\n"
   ]
  },
  {
   "cell_type": "markdown",
   "id": "ae586c5d",
   "metadata": {},
   "source": [
    "## Question 14. Matrix operations. (6 pts)\n",
    "Calculate $C = A \\times B^\\top$.\n",
    "Print out $C$. \n",
    "What is the largest eigenvalues of matrix $C$\n"
   ]
  },
  {
   "cell_type": "code",
   "execution_count": 16,
   "id": "851bf79a",
   "metadata": {},
   "outputs": [],
   "source": [
    "## your code:\n",
    "\n"
   ]
  },
  {
   "cell_type": "markdown",
   "id": "303f4ac2",
   "metadata": {},
   "source": [
    "## Question 15. Matrix margin calculation. (6 pts)\n",
    "Calculate row_sums and column_means for $A$.\n",
    "Calculate row_standard deviation and column_variance for $B$.\n"
   ]
  },
  {
   "cell_type": "code",
   "execution_count": 17,
   "id": "b6b02367",
   "metadata": {},
   "outputs": [],
   "source": [
    "## your code:\n",
    "\n"
   ]
  },
  {
   "cell_type": "markdown",
   "id": "faa1b0f7",
   "metadata": {},
   "source": [
    "## Question 16. Stacking. (6 pts)\n",
    "1. Generate a 1D numpy array containing 10 equally spaced values between 5 and 50.\n",
    "2. Generate a 2D numpy array 2 rows by 10 columns with each element being 1.\n",
    "3. Generate a 2D numpy array 3 rows by 5 columns with each element being 2.\n",
    "4. Generate a 2D numpy array 3 rows by 5 columns with each element being -2.\n",
    "5. Combine the arrays in step 3 and 4 to get a 2D numpy array with 3 rows and 10 columns.\n",
    "6. Combine the arrays in step 1, 2 and 5 to get a 2D numpy array with 6 rows and 10 columns.\n",
    "Print out this array (6 rows and 10 columns).\n"
   ]
  },
  {
   "cell_type": "code",
   "execution_count": 18,
   "id": "df06de08",
   "metadata": {
    "tags": []
   },
   "outputs": [],
   "source": [
    "## your code\n",
    "\n"
   ]
  },
  {
   "cell_type": "markdown",
   "id": "a03c95ac",
   "metadata": {},
   "source": [
    "## Note (4 pts):\n",
    "\n",
    "\n",
    "\n",
    "### Homework should be uploaded to courseweb:\n",
    "1. Save your compiled result as html file. Rename the file name as: hw4_Lastname_Firstname.html. To save .ipynb as .html, click file -> save and export Notebook as -> html.\n",
    "2. Don't forget to write your name on the top of the html file.\n",
    "3. ipynb file is not required. You only need to upload the html file to the [e-leaning](https://elearning.ufl.edu) website.\n",
    "\n",
    "### If you generate a figure, please write appropriate figure title, labels, legend if necessary.\n",
    "\n",
    "### If your code is not intuitive, please write comments to make the code readible. \n",
    "\n",
    "\n"
   ]
  }
 ],
 "metadata": {
  "kernelspec": {
   "display_name": "Python 3 (ipykernel)",
   "language": "python",
   "name": "python3"
  },
  "language_info": {
   "codemirror_mode": {
    "name": "ipython",
    "version": 3
   },
   "file_extension": ".py",
   "mimetype": "text/x-python",
   "name": "python",
   "nbconvert_exporter": "python",
   "pygments_lexer": "ipython3",
   "version": "3.12.5"
  }
 },
 "nbformat": 4,
 "nbformat_minor": 5
}
